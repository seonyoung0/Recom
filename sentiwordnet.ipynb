{
 "cells": [
  {
   "cell_type": "code",
   "execution_count": 12,
   "id": "7cf2b4a0",
   "metadata": {},
   "outputs": [],
   "source": [
    "import pandas as pd"
   ]
  },
  {
   "cell_type": "code",
   "execution_count": 13,
   "id": "719553ee",
   "metadata": {},
   "outputs": [],
   "source": [
    "data_path  = \"Video_Games.json.gz\""
   ]
  },
  {
   "cell_type": "code",
   "execution_count": 14,
   "id": "0917d626",
   "metadata": {},
   "outputs": [],
   "source": [
    "if data_path.endswith('gz'):\n",
    "    df = pd.read_json(data_path, lines=True, compression='gzip')\n",
    "else:\n",
    "    df = pd.read_json(data_path, lines=True)"
   ]
  },
  {
   "cell_type": "code",
   "execution_count": 21,
   "id": "88614a77",
   "metadata": {},
   "outputs": [
    {
     "data": {
      "text/html": [
       "<div>\n",
       "<style scoped>\n",
       "    .dataframe tbody tr th:only-of-type {\n",
       "        vertical-align: middle;\n",
       "    }\n",
       "\n",
       "    .dataframe tbody tr th {\n",
       "        vertical-align: top;\n",
       "    }\n",
       "\n",
       "    .dataframe thead th {\n",
       "        text-align: right;\n",
       "    }\n",
       "</style>\n",
       "<table border=\"1\" class=\"dataframe\">\n",
       "  <thead>\n",
       "    <tr style=\"text-align: right;\">\n",
       "      <th></th>\n",
       "      <th>reviewText</th>\n",
       "    </tr>\n",
       "  </thead>\n",
       "  <tbody>\n",
       "    <tr>\n",
       "      <th>0</th>\n",
       "      <td>I used to play this game years ago and loved i...</td>\n",
       "    </tr>\n",
       "    <tr>\n",
       "      <th>1</th>\n",
       "      <td>The game itself worked great but the story lin...</td>\n",
       "    </tr>\n",
       "    <tr>\n",
       "      <th>2</th>\n",
       "      <td>I had to learn the hard way after ordering thi...</td>\n",
       "    </tr>\n",
       "    <tr>\n",
       "      <th>3</th>\n",
       "      <td>The product description should state this clea...</td>\n",
       "    </tr>\n",
       "    <tr>\n",
       "      <th>4</th>\n",
       "      <td>I would recommend this learning game for anyon...</td>\n",
       "    </tr>\n",
       "    <tr>\n",
       "      <th>...</th>\n",
       "      <td>...</td>\n",
       "    </tr>\n",
       "    <tr>\n",
       "      <th>2565344</th>\n",
       "      <td>Love it, work good</td>\n",
       "    </tr>\n",
       "    <tr>\n",
       "      <th>2565345</th>\n",
       "      <td>I do a lot of copy/paste and other keyboard sh...</td>\n",
       "    </tr>\n",
       "    <tr>\n",
       "      <th>2565346</th>\n",
       "      <td>One year in and it's still working great!  Hig...</td>\n",
       "    </tr>\n",
       "    <tr>\n",
       "      <th>2565347</th>\n",
       "      <td>EXCELENTE</td>\n",
       "    </tr>\n",
       "    <tr>\n",
       "      <th>2565348</th>\n",
       "      <td>Haven't really used it too much but dang this ...</td>\n",
       "    </tr>\n",
       "  </tbody>\n",
       "</table>\n",
       "<p>2565349 rows × 1 columns</p>\n",
       "</div>"
      ],
      "text/plain": [
       "                                                reviewText\n",
       "0        I used to play this game years ago and loved i...\n",
       "1        The game itself worked great but the story lin...\n",
       "2        I had to learn the hard way after ordering thi...\n",
       "3        The product description should state this clea...\n",
       "4        I would recommend this learning game for anyon...\n",
       "...                                                    ...\n",
       "2565344                                 Love it, work good\n",
       "2565345  I do a lot of copy/paste and other keyboard sh...\n",
       "2565346  One year in and it's still working great!  Hig...\n",
       "2565347                                          EXCELENTE\n",
       "2565348  Haven't really used it too much but dang this ...\n",
       "\n",
       "[2565349 rows x 1 columns]"
      ]
     },
     "execution_count": 21,
     "metadata": {},
     "output_type": "execute_result"
    }
   ],
   "source": [
    "df[['reviewText']]"
   ]
  },
  {
   "cell_type": "code",
   "execution_count": null,
   "id": "f41653b3",
   "metadata": {},
   "outputs": [],
   "source": []
  }
 ],
 "metadata": {
  "kernelspec": {
   "display_name": "Python 3 (ipykernel)",
   "language": "python",
   "name": "python3"
  },
  "language_info": {
   "codemirror_mode": {
    "name": "ipython",
    "version": 3
   },
   "file_extension": ".py",
   "mimetype": "text/x-python",
   "name": "python",
   "nbconvert_exporter": "python",
   "pygments_lexer": "ipython3",
   "version": "3.10.9"
  }
 },
 "nbformat": 4,
 "nbformat_minor": 5
}
